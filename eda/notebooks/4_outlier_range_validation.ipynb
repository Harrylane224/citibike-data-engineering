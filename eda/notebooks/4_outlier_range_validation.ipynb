{
 "cells": [
  {
   "cell_type": "markdown",
   "id": "0d44ebef",
   "metadata": {},
   "source": [
    "# **Citi Bike Data Engineering  - EDA - Outlier and Range Validation** "
   ]
  },
  {
   "cell_type": "markdown",
   "id": "4ad88c5e",
   "metadata": {},
   "source": [
    "#### Python Package"
   ]
  },
  {
   "cell_type": "code",
   "execution_count": 1,
   "id": "95875757",
   "metadata": {},
   "outputs": [],
   "source": [
    "import pandas as pd\n",
    "import numpy as np\n",
    "import csv\n",
    "import sys\n",
    "import os\n",
    "import importlib\n",
    "from itertools import combinations\n",
    "from difflib import get_close_matches"
   ]
  },
  {
   "cell_type": "markdown",
   "id": "b55779ab",
   "metadata": {},
   "source": [
    "#### Python Scripts"
   ]
  },
  {
   "cell_type": "code",
   "execution_count": 2,
   "id": "f53be087",
   "metadata": {},
   "outputs": [],
   "source": [
    "# Dynamically add the project root to sys.path\n",
    "project_root = os.path.abspath(os.path.join(os.getcwd(), '..', '..'))\n",
    "if project_root not in sys.path:\n",
    "    sys.path.append(project_root)\n",
    "\n",
    "from scripts.create_markdown_table import create_markdown_table"
   ]
  },
  {
   "cell_type": "markdown",
   "id": "425ee2e5",
   "metadata": {},
   "source": [
    "#### Import DataFrame"
   ]
  },
  {
   "cell_type": "code",
   "execution_count": 3,
   "id": "93501e78",
   "metadata": {},
   "outputs": [
    {
     "name": "stdout",
     "output_type": "stream",
     "text": [
      "Dataframes loaded successfully.\n"
     ]
    }
   ],
   "source": [
    "df_dir = os.path.join(project_root, 'eda', 'dataframes')\n",
    "newark_airport_df = pd.read_pickle(os.path.join(df_dir, 'newark_airport_df.pkl'))\n",
    "citibike_df = pd.read_pickle(os.path.join(df_dir, 'citibike_df.pkl'))\n",
    "\n",
    "# Confirm that the dataframes are loaded correctly\n",
    "if newark_airport_df.empty or citibike_df.empty:\n",
    "    raise ValueError(\"One or both dataframes are empty. Please check the data loading process.\")\n",
    "else:\n",
    "    print(\"Dataframes loaded successfully.\")"
   ]
  },
  {
   "cell_type": "markdown",
   "id": "d9b9b755",
   "metadata": {},
   "source": [
    "#### Detect out-of-bound values"
   ]
  },
  {
   "cell_type": "code",
   "execution_count": 5,
   "id": "0e7bf306",
   "metadata": {},
   "outputs": [],
   "source": [
    "# Create a dictionary for wind speed bounds\n",
    "wind_speed_bounds_data = [\n",
    "    {\"Description\": \"Calm to Light Breeze\", \"min_wind_speed\": 0, \"max_wind_speed\": 10, \"Notes\": \"Common daily conditions\"},\n",
    "    {\"Description\": \"Moderate to Strong Breeze\", \"min_wind_speed\": 10, \"max_wind_speed\": 40, \"Notes\": \"Typical during gusty days or storms\"},\n",
    "    {\"Description\": \"Gale to Severe Gale\", \"min_wind_speed\": 40, \"max_wind_speed\": 74, \"Notes\": \"Rare but possible in strong weather systems\"},\n",
    "    {\"Description\": \"Hurricane-force Winds\", \"min_wind_speed\": 75, \"max_wind_speed\": 100, \"Notes\": \"Extreme, often coastal or storm-driven\"}\n",
    "]\n",
    "wind_speed_df = pd.DataFrame(wind_speed_bounds_data)"
   ]
  },
  {
   "cell_type": "code",
   "execution_count": null,
   "id": "17e81e13",
   "metadata": {},
   "outputs": [],
   "source": [
    "# Create a dictionary for temperature bounds in New Jersey\n",
    "nj_temperature_bounds_data = [\n",
    "    {\"Description\": \"Frigid Winter Lows\", \"min_temp_f\": -20, \"max_temp_f\": 20, \"Notes\": \"Rare but possible in inland or northern NJ during deep winter\"},\n",
    "    {\"Description\": \"Typical Winter Range\", \"min_temp_f\": 21, \"max_temp_f\": 40, \"Notes\": \"Common from December to February\"},\n",
    "    {\"Description\": \"Mild Spring/Fall\", \"min_temp_f\": 41, \"max_temp_f\": 65, \"Notes\": \"Transitional seasons, typical March–May and October–November\"},\n",
    "    {\"Description\": \"Warm Summer Days\", \"min_temp_f\": 66, \"max_temp_f\": 85, \"Notes\": \"Typical June–August daytime highs\"},\n",
    "    {\"Description\": \"Extreme Summer Heat\", \"min_temp_f\": 86, \"max_temp_f\": 105, \"Notes\": \"Occasional heatwaves, especially in urban areas\"},\n",
    "    {\"Description\": \"Logical Bound Recommendation\", \"min_temp_f\": -20, \"max_temp_f\": 105, \"Notes\": \"Suggested cap for New Jersey climate sanity checks\"},\n",
    "]\n",
    "\n",
    "nj_temp_df = pd.DataFrame(nj_temperature_bounds_data)"
   ]
  },
  {
   "cell_type": "code",
   "execution_count": null,
   "id": "59a41998",
   "metadata": {},
   "outputs": [],
   "source": [
    "# Create a dictionary that sets logical bounds for newark_airport_df\n",
    "newark_airport_bounds = {\n",
    "    'Degrees': (0, 360),\n",
    "    'Fahrenheit': (-20, 110),\n",
    "    'Date': (pd.Timestamp('2016-01-01'), pd.Timestamp('2016-12-31')),\n",
    "\n",
    "}"
   ]
  }
 ],
 "metadata": {
  "kernelspec": {
   "display_name": "venv",
   "language": "python",
   "name": "python3"
  },
  "language_info": {
   "codemirror_mode": {
    "name": "ipython",
    "version": 3
   },
   "file_extension": ".py",
   "mimetype": "text/x-python",
   "name": "python",
   "nbconvert_exporter": "python",
   "pygments_lexer": "ipython3",
   "version": "3.9.10"
  }
 },
 "nbformat": 4,
 "nbformat_minor": 5
}
