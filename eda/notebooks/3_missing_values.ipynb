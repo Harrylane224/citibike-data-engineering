{
 "cells": [
  {
   "cell_type": "markdown",
   "id": "a256ceac",
   "metadata": {},
   "source": [
    "# **Citi Bike Data Engineering  - EDA - Missing Values Analysis** "
   ]
  },
  {
   "cell_type": "markdown",
   "id": "53d6c427",
   "metadata": {},
   "source": [
    "#### Python Packages"
   ]
  },
  {
   "cell_type": "code",
   "execution_count": 25,
   "id": "d8edad72",
   "metadata": {},
   "outputs": [],
   "source": [
    "import pandas as pd\n",
    "import numpy as np\n",
    "import csv\n",
    "import sys\n",
    "import os\n",
    "import importlib\n",
    "from itertools import combinations\n",
    "from difflib import get_close_matches"
   ]
  },
  {
   "cell_type": "markdown",
   "id": "b9016d4a",
   "metadata": {},
   "source": [
    "#### Python Scripts"
   ]
  },
  {
   "cell_type": "code",
   "execution_count": 26,
   "id": "b441e6f5",
   "metadata": {},
   "outputs": [],
   "source": [
    "# Dynamically add the project root to sys.path\n",
    "project_root = os.path.abspath(os.path.join(os.getcwd(), '..', '..'))\n",
    "if project_root not in sys.path:\n",
    "    sys.path.append(project_root)\n",
    "\n",
    "from scripts.create_markdown_table import create_markdown_table"
   ]
  },
  {
   "cell_type": "markdown",
   "id": "8e809ff8",
   "metadata": {},
   "source": [
    "#### Import DataFrames"
   ]
  },
  {
   "cell_type": "code",
   "execution_count": 27,
   "id": "f1e08c3e",
   "metadata": {},
   "outputs": [
    {
     "name": "stdout",
     "output_type": "stream",
     "text": [
      "Dataframes loaded successfully.\n"
     ]
    }
   ],
   "source": [
    "df_dir = os.path.join(project_root, 'eda', 'dataframes')\n",
    "newark_airport_df = pd.read_pickle(os.path.join(df_dir, 'newark_airport_df.pkl'))\n",
    "citibike_df = pd.read_pickle(os.path.join(df_dir, 'citibike_df.pkl'))\n",
    "\n",
    "# Confirm that the dataframes are loaded correctly\n",
    "if newark_airport_df.empty or citibike_df.empty:\n",
    "    raise ValueError(\"One or both dataframes are empty. Please check the data loading process.\")\n",
    "else:\n",
    "    print(\"Dataframes loaded successfully.\")"
   ]
  },
  {
   "cell_type": "markdown",
   "id": "2ae8bf30",
   "metadata": {},
   "source": [
    "#### Identify and quantify the number of missing values in relevant columns"
   ]
  },
  {
   "cell_type": "code",
   "execution_count": 28,
   "id": "f56d28fe",
   "metadata": {},
   "outputs": [
    {
     "name": "stdout",
     "output_type": "stream",
     "text": [
      "Missing data summary for newark_airport_df:\n"
     ]
    },
    {
     "data": {
      "application/vnd.microsoft.datawrangler.viewer.v0+json": {
       "columns": [
        {
         "name": "index",
         "rawType": "int64",
         "type": "integer"
        },
        {
         "name": "Column Name",
         "rawType": "object",
         "type": "string"
        },
        {
         "name": "Missing Count",
         "rawType": "int64",
         "type": "integer"
        },
        {
         "name": "Missing Data Percentage",
         "rawType": "float64",
         "type": "float"
        },
        {
         "name": "Likely Missing Data Type",
         "rawType": "object",
         "type": "string"
        }
       ],
       "ref": "a85815e6-cb20-480d-b95b-7d2d6da979a4",
       "rows": [
        [
         "0",
         "WSF5",
         "2",
         "0.55",
         "Likely MCAR (Minimal Missingness)"
        ],
        [
         "1",
         "WDF5",
         "2",
         "0.55",
         "Likely MCAR (Minimal Missingness)"
        ],
        [
         "2",
         "TSUN",
         "366",
         "100.0",
         "Structurally Missing Data (always null)"
        ],
        [
         "3",
         "PGTM",
         "366",
         "100.0",
         "Structurally Missing Data (always null)"
        ]
       ],
       "shape": {
        "columns": 4,
        "rows": 4
       }
      },
      "text/html": [
       "<div>\n",
       "<style scoped>\n",
       "    .dataframe tbody tr th:only-of-type {\n",
       "        vertical-align: middle;\n",
       "    }\n",
       "\n",
       "    .dataframe tbody tr th {\n",
       "        vertical-align: top;\n",
       "    }\n",
       "\n",
       "    .dataframe thead th {\n",
       "        text-align: right;\n",
       "    }\n",
       "</style>\n",
       "<table border=\"1\" class=\"dataframe\">\n",
       "  <thead>\n",
       "    <tr style=\"text-align: right;\">\n",
       "      <th></th>\n",
       "      <th>Column Name</th>\n",
       "      <th>Missing Count</th>\n",
       "      <th>Missing Data Percentage</th>\n",
       "      <th>Likely Missing Data Type</th>\n",
       "    </tr>\n",
       "  </thead>\n",
       "  <tbody>\n",
       "    <tr>\n",
       "      <th>0</th>\n",
       "      <td>WSF5</td>\n",
       "      <td>2</td>\n",
       "      <td>0.55</td>\n",
       "      <td>Likely MCAR (Minimal Missingness)</td>\n",
       "    </tr>\n",
       "    <tr>\n",
       "      <th>1</th>\n",
       "      <td>WDF5</td>\n",
       "      <td>2</td>\n",
       "      <td>0.55</td>\n",
       "      <td>Likely MCAR (Minimal Missingness)</td>\n",
       "    </tr>\n",
       "    <tr>\n",
       "      <th>2</th>\n",
       "      <td>TSUN</td>\n",
       "      <td>366</td>\n",
       "      <td>100.00</td>\n",
       "      <td>Structurally Missing Data (always null)</td>\n",
       "    </tr>\n",
       "    <tr>\n",
       "      <th>3</th>\n",
       "      <td>PGTM</td>\n",
       "      <td>366</td>\n",
       "      <td>100.00</td>\n",
       "      <td>Structurally Missing Data (always null)</td>\n",
       "    </tr>\n",
       "  </tbody>\n",
       "</table>\n",
       "</div>"
      ],
      "text/plain": [
       "  Column Name  Missing Count  Missing Data Percentage  \\\n",
       "0        WSF5              2                     0.55   \n",
       "1        WDF5              2                     0.55   \n",
       "2        TSUN            366                   100.00   \n",
       "3        PGTM            366                   100.00   \n",
       "\n",
       "                  Likely Missing Data Type  \n",
       "0        Likely MCAR (Minimal Missingness)  \n",
       "1        Likely MCAR (Minimal Missingness)  \n",
       "2  Structurally Missing Data (always null)  \n",
       "3  Structurally Missing Data (always null)  "
      ]
     },
     "execution_count": 28,
     "metadata": {},
     "output_type": "execute_result"
    }
   ],
   "source": [
    "\"\"\"\n",
    "    Summarises missing data and infers possible missingness mechanisms.\n",
    "    Returns a dataframe with column, missing count, percent, and heuristic-based type.\n",
    "\"\"\"\n",
    "def missing_data_summary(df):\n",
    "    summary = []\n",
    "    total_rows = len(df)\n",
    "\n",
    "    for col in df.columns:\n",
    "        missing_count = df[col].isna().sum()\n",
    "        missing_pct = missing_count / total_rows\n",
    "\n",
    "        if missing_count == 0:\n",
    "            continue  # skip non-missing columns\n",
    "\n",
    "        # Simple heuristic rules\n",
    "        if missing_pct == 1.0:\n",
    "            missing_type = \"Structurally Missing Data (always null)\"\n",
    "        elif df[col].dtype == \"object\" and df[col].nunique() == 1:\n",
    "            missing_type = \"Possibly Structural or Redundant\"\n",
    "        elif missing_pct > 0 and missing_pct < 0.05:\n",
    "            missing_type = \"Likely MCAR (Minimal Missingness)\"\n",
    "        elif np.issubdtype(df[col].dtype, np.number):\n",
    "            missing_type = \"Possible MNAR (e.g. sensitive numeric)\"\n",
    "        else:\n",
    "            missing_type = \"Possibly MAR or MNAR (needs domain check)\"\n",
    "\n",
    "        summary.append({\n",
    "            \"Column Name\": col,\n",
    "            \"Missing Count\": missing_count,\n",
    "            \"Missing Data Percentage\": round(missing_pct * 100, 2),\n",
    "            \"Likely Missing Data Type\": missing_type\n",
    "        })\n",
    "\n",
    "    result_df = pd.DataFrame(summary).sort_values(by=\"Column Name\", ascending=False).reset_index(drop=True)\n",
    "    return result_df\n",
    "\n",
    "# Generate and display the missing data summary for the newark_airport_df\n",
    "newark_airport_missing_summary = missing_data_summary(newark_airport_df)\n",
    "\n",
    "print(\"Missing data summary for newark_airport_df:\")\n",
    "newark_airport_missing_summary"
   ]
  },
  {
   "cell_type": "code",
   "execution_count": null,
   "id": "61b0ffc0",
   "metadata": {},
   "outputs": [
    {
     "name": "stdout",
     "output_type": "stream",
     "text": [
      "Missing data summary for citibike_df:\n"
     ]
    },
    {
     "data": {
      "application/vnd.microsoft.datawrangler.viewer.v0+json": {
       "columns": [
        {
         "name": "index",
         "rawType": "int64",
         "type": "integer"
        },
        {
         "name": "Column Name",
         "rawType": "object",
         "type": "string"
        },
        {
         "name": "Missing Count",
         "rawType": "int64",
         "type": "integer"
        },
        {
         "name": "Missing Data Percentage",
         "rawType": "float64",
         "type": "float"
        },
        {
         "name": "Likely Missing Data Type",
         "rawType": "object",
         "type": "string"
        }
       ],
       "ref": "60aad81b-38cc-4c24-a9bc-1da40a24315c",
       "rows": [
        [
         "0",
         "User Type",
         "380",
         "0.15",
         "Likely MCAR (Minimal Missingness)"
        ],
        [
         "1",
         "Birth Year",
         "18999",
         "7.67",
         "Possible MNAR (e.g. sensitive numeric)"
        ]
       ],
       "shape": {
        "columns": 4,
        "rows": 2
       }
      },
      "text/html": [
       "<div>\n",
       "<style scoped>\n",
       "    .dataframe tbody tr th:only-of-type {\n",
       "        vertical-align: middle;\n",
       "    }\n",
       "\n",
       "    .dataframe tbody tr th {\n",
       "        vertical-align: top;\n",
       "    }\n",
       "\n",
       "    .dataframe thead th {\n",
       "        text-align: right;\n",
       "    }\n",
       "</style>\n",
       "<table border=\"1\" class=\"dataframe\">\n",
       "  <thead>\n",
       "    <tr style=\"text-align: right;\">\n",
       "      <th></th>\n",
       "      <th>Column Name</th>\n",
       "      <th>Missing Count</th>\n",
       "      <th>Missing Data Percentage</th>\n",
       "      <th>Likely Missing Data Type</th>\n",
       "    </tr>\n",
       "  </thead>\n",
       "  <tbody>\n",
       "    <tr>\n",
       "      <th>0</th>\n",
       "      <td>User Type</td>\n",
       "      <td>380</td>\n",
       "      <td>0.15</td>\n",
       "      <td>Likely MCAR (Minimal Missingness)</td>\n",
       "    </tr>\n",
       "    <tr>\n",
       "      <th>1</th>\n",
       "      <td>Birth Year</td>\n",
       "      <td>18999</td>\n",
       "      <td>7.67</td>\n",
       "      <td>Possible MNAR (e.g. sensitive numeric)</td>\n",
       "    </tr>\n",
       "  </tbody>\n",
       "</table>\n",
       "</div>"
      ],
      "text/plain": [
       "  Column Name  Missing Count  Missing Data Percentage  \\\n",
       "0   User Type            380                     0.15   \n",
       "1  Birth Year          18999                     7.67   \n",
       "\n",
       "                 Likely Missing Data Type  \n",
       "0       Likely MCAR (Minimal Missingness)  \n",
       "1  Possible MNAR (e.g. sensitive numeric)  "
      ]
     },
     "execution_count": 29,
     "metadata": {},
     "output_type": "execute_result"
    }
   ],
   "source": [
    "# Generate and display the missing data summary for the citibike_df\n",
    "citibike_missing_summary = missing_data_summary(citibike_df)\n",
    "print(\"Missing data summary for citibike_df:\")\n",
    "citibike_missing_summary"
   ]
  },
  {
   "cell_type": "markdown",
   "id": "6aa2f37c",
   "metadata": {},
   "source": [
    "#### Spot and confirm the data missing patterns"
   ]
  },
  {
   "cell_type": "code",
   "execution_count": 30,
   "id": "33af099c",
   "metadata": {},
   "outputs": [],
   "source": [
    "# Merge the two summaries into a single markdown table\n",
    "merged_missing_summary = pd.concat([newark_airport_missing_summary, citibike_missing_summary], keys=['Newark Airport', 'Citi Bike']).reset_index(level=0).rename(columns={'level_0': 'DataFrame'})\n",
    "# Create a markdown table from the merged summary\n",
    "markdown_table = create_markdown_table(merged_missing_summary, \"missing_data_summary\")"
   ]
  }
 ],
 "metadata": {
  "kernelspec": {
   "display_name": "venv",
   "language": "python",
   "name": "python3"
  },
  "language_info": {
   "codemirror_mode": {
    "name": "ipython",
    "version": 3
   },
   "file_extension": ".py",
   "mimetype": "text/x-python",
   "name": "python",
   "nbconvert_exporter": "python",
   "pygments_lexer": "ipython3",
   "version": "3.9.10"
  }
 },
 "nbformat": 4,
 "nbformat_minor": 5
}
