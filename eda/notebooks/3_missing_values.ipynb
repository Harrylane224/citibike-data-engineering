{
 "cells": [
  {
   "cell_type": "markdown",
   "id": "a256ceac",
   "metadata": {},
   "source": [
    "# **Citi Bike Data Engineering  - EDA - Missing Values Analysis** "
   ]
  },
  {
   "cell_type": "markdown",
   "id": "2ae8bf30",
   "metadata": {},
   "source": [
    "#### Identify and quantify the number of missing values in relevant columns"
   ]
  },
  {
   "cell_type": "markdown",
   "id": "6aa2f37c",
   "metadata": {},
   "source": [
    "#### Spot and confirm the data missing patterns"
   ]
  }
 ],
 "metadata": {
  "kernelspec": {
   "display_name": "venv",
   "language": "python",
   "name": "python3"
  },
  "language_info": {
   "codemirror_mode": {
    "name": "ipython",
    "version": 3
   },
   "file_extension": ".py",
   "mimetype": "text/x-python",
   "name": "python",
   "nbconvert_exporter": "python",
   "pygments_lexer": "ipython3",
   "version": "3.9.10"
  }
 },
 "nbformat": 4,
 "nbformat_minor": 5
}
