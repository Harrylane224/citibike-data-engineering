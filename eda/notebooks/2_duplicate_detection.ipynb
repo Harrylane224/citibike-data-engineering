{
 "cells": [
  {
   "cell_type": "markdown",
   "id": "a256ceac",
   "metadata": {},
   "source": [
    "# **Citi Bike Data Engineering  - EDA - Duplicate Detection** "
   ]
  },
  {
   "cell_type": "markdown",
   "id": "c97baae9",
   "metadata": {},
   "source": [
    "#### Python Packages"
   ]
  },
  {
   "cell_type": "code",
   "execution_count": 2,
   "id": "aa81a0f1",
   "metadata": {},
   "outputs": [],
   "source": [
    "import pandas as pd\n",
    "import numpy as np\n",
    "import csv\n",
    "import sys\n",
    "import os\n",
    "import importlib\n",
    "from difflib import get_close_matches"
   ]
  },
  {
   "cell_type": "markdown",
   "id": "3e922196",
   "metadata": {},
   "source": [
    "#### Python Scripts"
   ]
  },
  {
   "cell_type": "code",
   "execution_count": 3,
   "id": "f2ef689b",
   "metadata": {},
   "outputs": [],
   "source": [
    "# Dynamically add the project root to sys.path\n",
    "project_root = os.path.abspath(os.path.join(os.getcwd(), '..', '..'))\n",
    "if project_root not in sys.path:\n",
    "    sys.path.append(project_root)\n",
    "\n",
    "from scripts.create_markdown_table import create_markdown_table\n"
   ]
  },
  {
   "cell_type": "markdown",
   "id": "2ae8bf30",
   "metadata": {},
   "source": [
    "#### Assess whether duplicate rows exist in the dataset"
   ]
  },
  {
   "cell_type": "markdown",
   "id": "6aa2f37c",
   "metadata": {},
   "source": [
    "#### Determine uniqueness of identifiers"
   ]
  }
 ],
 "metadata": {
  "kernelspec": {
   "display_name": "venv",
   "language": "python",
   "name": "python3"
  },
  "language_info": {
   "codemirror_mode": {
    "name": "ipython",
    "version": 3
   },
   "file_extension": ".py",
   "mimetype": "text/x-python",
   "name": "python",
   "nbconvert_exporter": "python",
   "pygments_lexer": "ipython3",
   "version": "3.9.10"
  }
 },
 "nbformat": 4,
 "nbformat_minor": 5
}
